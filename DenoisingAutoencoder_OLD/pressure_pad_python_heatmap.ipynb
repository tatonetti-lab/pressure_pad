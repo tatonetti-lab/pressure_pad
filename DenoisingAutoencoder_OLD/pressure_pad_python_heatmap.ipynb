{
 "cells": [
  {
   "cell_type": "code",
   "execution_count": null,
   "id": "e036f27e",
   "metadata": {},
   "outputs": [],
   "source": [
    "import serial # type: ignore\n",
    "import time\n",
    "import numpy as np\n",
    "import matplotlib.pyplot as plt\n",
    "from IPython.display import display, clear_output"
   ]
  },
  {
   "cell_type": "code",
   "execution_count": null,
   "id": "e0ee3deb",
   "metadata": {},
   "outputs": [
    {
     "name": "stdout",
     "output_type": "stream",
     "text": [
      "Stopped.\n"
     ]
    },
    {
     "data": {
      "image/png": "[encoded data removed]",
      "text/plain": [
       "<Figure size 640x480 with 2 Axes>"
      ]
     },
     "metadata": {},
     "output_type": "display_data"
    }
   ],
   "source": [
    "# Connect to Arduino (adjust port if needed)\n",
    "arduino = serial.Serial('/dev/cu.usbmodem101', 115200, timeout=1)\n",
    "print(\"Connected.\")\n",
    "time.sleep(2)\n",
    "arduino.reset_input_buffer()\n",
    "\n",
    "# Grid setup\n",
    "grid = np.zeros((6, 6), dtype=int)\n",
    "\n",
    "# Plot setup\n",
    "fig, ax = plt.subplots()\n",
    "heatmap = ax.imshow(grid, cmap='viridis', origin='lower', vmin=0, vmax=600)\n",
    "plt.colorbar(heatmap, ax=ax)\n",
    "ax.set_title(\"Live Heatmap from Arduino\")\n",
    "plt.xticks(range(6))\n",
    "plt.yticks(range(6))\n",
    "fig.canvas.draw_idle()\n",
    "fig.canvas.flush_events()\n",
    "display(fig)\n",
    "\n",
    "# Main loop\n",
    "while True:\n",
    "    try:\n",
    "        line = arduino.readline().decode('utf-8', errors='ignore').strip()\n",
    "        if line and ',' in line and '=' in line:\n",
    "            try:\n",
    "                coord_part, val_part = line.split('=')\n",
    "                x_str, y_str = coord_part.split(',')    \n",
    "                x = int(x_str)\n",
    "                y = int(y_str)\n",
    "                value = int(val_part)\n",
    "\n",
    "                if 0 <= x < 6 and 0 <= y < 6:\n",
    "                    grid[y, x] = value\n",
    "\n",
    "                # Display update after every line\n",
    "                heatmap.set_data(grid)\n",
    "                clear_output(wait=True)\n",
    "                display(fig)\n",
    "\n",
    "            except Exception as e:\n",
    "                print(f\"Parse error: {line} | {e}\")\n",
    "    except KeyboardInterrupt:\n",
    "        print(\"Stopped.\")\n",
    "        break"
   ]
  },
  {
   "cell_type": "code",
   "execution_count": null,
   "id": "a3129aa4",
   "metadata": {},
   "outputs": [],
   "source": []
  }
 ],
 "metadata": {
  "kernelspec": {
   "display_name": "base",
   "language": "python",
   "name": "python3"
  },
  "language_info": {
   "codemirror_mode": {
    "name": "ipython",
    "version": 3
   },
   "file_extension": ".py",
   "mimetype": "text/x-python",
   "name": "python",
   "nbconvert_exporter": "python",
   "pygments_lexer": "ipython3",
   "version": "3.10.13"
  }
 },
 "nbformat": 4,
 "nbformat_minor": 5
}
