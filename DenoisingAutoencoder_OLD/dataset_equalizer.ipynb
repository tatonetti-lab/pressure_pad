{
 "cells": [
  {
   "cell_type": "code",
   "execution_count": 2,
   "id": "a8779bb5",
   "metadata": {},
   "outputs": [
    {
     "name": "stdout",
     "output_type": "stream",
     "text": [
      "Upsampling (3,2) by 40 samples\n",
      "Upsampling (2,0) by 80 samples\n",
      "Upsampling (0,3) by 40 samples\n",
      "Upsampling (1,1) by 80 samples\n",
      "Upsampling (3,0) by 40 samples\n",
      "Upsampling (2,2) by 40 samples\n",
      "Upsampling (0,1) by 80 samples\n",
      "Upsampling (1,3) by 40 samples\n",
      "Upsampling (2,4) by 40 samples\n",
      "Upsampling (1,5) by 80 samples\n",
      "Upsampling (3,4) by 40 samples\n",
      "Upsampling (0,5) by 80 samples\n",
      "Upsampling (4,5) by 80 samples\n",
      "Upsampling (5,1) by 40 samples\n",
      "Upsampling (5,5) by 40 samples\n",
      "Upsampling (4,1) by 40 samples\n",
      "Upsampling (3,5) by 40 samples\n",
      "Upsampling (0,4) by 80 samples\n",
      "Upsampling (2,5) by 40 samples\n",
      "Upsampling (1,4) by 40 samples\n",
      "Upsampling (5,0) by 40 samples\n",
      "Upsampling (3,1) by 40 samples\n",
      "Upsampling (1,2) by 40 samples\n",
      "Upsampling (0,0) by 80 samples\n",
      "Upsampling (4,4) by 40 samples\n",
      "Upsampling (2,1) by 80 samples\n",
      "Upsampling (3,3) by 40 samples\n",
      "Upsampling (1,0) by 80 samples\n",
      "Upsampling (0,2) by 80 samples\n",
      "Upsampling (5,2) by 80 samples\n",
      "Upsampling (4,2) by 40 samples\n",
      "Upsampling (4,0) by 40 samples\n",
      "Upsampling (5,4) by 40 samples\n"
     ]
    },
    {
     "data": {
      "text/plain": [
       "1800"
      ]
     },
     "execution_count": 2,
     "metadata": {},
     "output_type": "execute_result"
    }
   ],
   "source": [
    "import os\n",
    "import numpy as np\n",
    "import random\n",
    "from collections import Counter\n",
    "from itertools import combinations\n",
    "\n",
    "source_dirs = [f\"training_set_{i}\" for i in range(5)]\n",
    "output_dir = \"training_set_5\"\n",
    "os.makedirs(output_dir, exist_ok=True)\n",
    "\n",
    "# Gather all samples\n",
    "samples_by_coord = {}\n",
    "for d in source_dirs:\n",
    "    for fname in os.listdir(d):\n",
    "        if fname.endswith(\".npy\"):\n",
    "            x, y, _ = map(int, fname[:-4].split(\"_\"))\n",
    "            key = (x, y)\n",
    "            if key not in samples_by_coord:\n",
    "                samples_by_coord[key] = []\n",
    "            matrix = np.load(os.path.join(d, fname)).astype(\"float32\")\n",
    "            samples_by_coord[key].append(matrix)\n",
    "\n",
    "# Max target count\n",
    "target_count = max(len(v) for v in samples_by_coord.values())\n",
    "\n",
    "# Interpolate for undersampled coords\n",
    "for (x, y), matrices in samples_by_coord.items():\n",
    "    current_count = len(matrices)\n",
    "    needed = target_count - current_count\n",
    "    if needed <= 0:\n",
    "        continue\n",
    "\n",
    "    print(f\"Upsampling ({x},{y}) by {needed} samples\")\n",
    "\n",
    "    for i in range(needed):\n",
    "        a, b = random.sample(matrices, 2)\n",
    "        alpha = random.uniform(0.3, 0.7)\n",
    "        new_matrix = alpha * a + (1 - alpha) * b\n",
    "        new_matrix = np.clip(new_matrix, 0, 1)\n",
    "\n",
    "        filename = f\"{x}_{y}_{i}.npy\"\n",
    "        np.save(os.path.join(output_dir, filename), new_matrix)\n",
    "\n",
    "\n",
    "new_files_created"
   ]
  },
  {
   "cell_type": "code",
   "execution_count": null,
   "id": "90788747",
   "metadata": {},
   "outputs": [],
   "source": []
  }
 ],
 "metadata": {
  "kernelspec": {
   "display_name": "base",
   "language": "python",
   "name": "python3"
  },
  "language_info": {
   "codemirror_mode": {
    "name": "ipython",
    "version": 3
   },
   "file_extension": ".py",
   "mimetype": "text/x-python",
   "name": "python",
   "nbconvert_exporter": "python",
   "pygments_lexer": "ipython3",
   "version": "3.10.13"
  }
 },
 "nbformat": 4,
 "nbformat_minor": 5
}
